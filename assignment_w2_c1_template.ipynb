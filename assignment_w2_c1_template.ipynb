{
 "cells": [
  {
   "cell_type": "markdown",
   "id": "56a1ca3c-5476-4de7-a816-1a3fb46c22f6",
   "metadata": {},
   "source": [
    "#### Week 2, Assignment C1: \n",
    "### Exploring some Crowdfunding Data with Pandas\n",
    "\n",
    "In this notebook we will aim to explore a few key activities using Pandas\n",
    "\n",
    "Please complete the lines bellow where you see \"# TODO\"\n"
   ]
  },
  {
   "cell_type": "code",
   "execution_count": 2,
   "id": "6c026abe-ce51-46ab-bd76-4ef337762478",
   "metadata": {},
   "outputs": [],
   "source": [
    "# Objective 1.\n",
    "#Use this cell to import your packages\n",
    "import pandas as pd\n"
   ]
  },
  {
   "cell_type": "code",
   "execution_count": 4,
   "id": "319c0bf4-b1d2-4c39-8fb2-952b01cead17",
   "metadata": {},
   "outputs": [
    {
     "name": "stdout",
     "output_type": "stream",
     "text": [
      "               created_at  backers_count  \\\n",
      "0     2009-04-25 05:37:50             25   \n",
      "1     2009-08-25 18:21:02             36   \n",
      "2     2009-08-30 16:57:43             82   \n",
      "3     2009-09-14 23:58:49             10   \n",
      "4     2009-10-11 20:28:44            156   \n",
      "...                   ...            ...   \n",
      "6953  2021-05-08 19:57:26              4   \n",
      "6954  2021-05-08 19:57:26              4   \n",
      "6955  2021-05-09 04:06:34             18   \n",
      "6956  2021-05-09 14:32:09              1   \n",
      "6957  2021-05-10 02:24:04              2   \n",
      "\n",
      "                                                  blurb  \\\n",
      "0     This is a project to create a free iPhone app ...   \n",
      "1     Your donation will go directly to the purchase...   \n",
      "2     Exploring a classic style of portraiture and f...   \n",
      "3     World renowned artist collective, Bandwagon, s...   \n",
      "4     Six series of 100 signed and numbered tabletop...   \n",
      "...                                                 ...   \n",
      "6953         \"Once Upon a Time in...Hollywood\"- Parody.   \n",
      "6954         \"Once Upon a Time in...Hollywood\"- Parody.   \n",
      "6955  NEW Variant Covers for War Angels Issues 4 and 5!   \n",
      "6956             Taylor Swift Every Era Soft Enamel Pin   \n",
      "6957  Tale of Xestuoria is a fantasy podcast, full o...   \n",
      "\n",
      "                                               category  \\\n",
      "0     {\"id\":51,\"name\":\"Software\",\"analytics_name\":\"S...   \n",
      "1     {\"id\":23,\"name\":\"Painting\",\"analytics_name\":\"P...   \n",
      "2     {\"id\":23,\"name\":\"Painting\",\"analytics_name\":\"P...   \n",
      "3     {\"id\":23,\"name\":\"Painting\",\"analytics_name\":\"P...   \n",
      "4     {\"id\":25,\"name\":\"Sculpture\",\"analytics_name\":\"...   \n",
      "...                                                 ...   \n",
      "6953  {\"id\":292,\"name\":\"Comedy\",\"analytics_name\":\"Co...   \n",
      "6954  {\"id\":292,\"name\":\"Comedy\",\"analytics_name\":\"Co...   \n",
      "6955  {\"id\":250,\"name\":\"Comic Books\",\"analytics_name...   \n",
      "6956  {\"id\":1,\"name\":\"Art\",\"analytics_name\":\"Art\",\"s...   \n",
      "6957  {\"id\":239,\"name\":\"Radio & Podcasts\",\"analytics...   \n",
      "\n",
      "      converted_pledged_amount country country_displayable_name  \\\n",
      "0                          145      US        the United States   \n",
      "1                         2562      US        the United States   \n",
      "2                         3800      US        the United States   \n",
      "3                          830      US        the United States   \n",
      "4                        10021      US        the United States   \n",
      "...                        ...     ...                      ...   \n",
      "6953                       114      US        the United States   \n",
      "6954                       114      US        the United States   \n",
      "6955                       928      US        the United States   \n",
      "6956                         1      GB       the United Kingdom   \n",
      "6957                         4      GB       the United Kingdom   \n",
      "\n",
      "                                                creator currency  \\\n",
      "0     {\"id\":473191023,\"name\":\"Dan Phiffer\",\"slug\":\"d...      USD   \n",
      "1     {\"id\":2042273139,\"name\":\"miya ando\",\"is_regist...      USD   \n",
      "2     {\"id\":1671016343,\"name\":\"Matt Held\",\"is_regist...      USD   \n",
      "3     {\"id\":699171192,\"name\":\"Chad Stayrook\",\"slug\":...      USD   \n",
      "4     {\"id\":1371762709,\"name\":\"John T. Unger\",\"slug\"...      USD   \n",
      "...                                                 ...      ...   \n",
      "6953  {\"id\":341623704,\"name\":\"Mark Mos\",\"slug\":\"mark...      USD   \n",
      "6954  {\"id\":341623704,\"name\":\"Mark Mos\",\"slug\":\"mark...      USD   \n",
      "6955  {\"id\":997307575,\"name\":\"Mountaineer West Produ...      USD   \n",
      "6956  {\"id\":579144618,\"name\":\"Abbie\",\"slug\":\"cruelre...      GBP   \n",
      "6957  {\"id\":296352873,\"name\":\"Rhys Smart\",\"slug\":\"rh...      GBP   \n",
      "\n",
      "     currency_symbol  ...                                         source_url  \\\n",
      "0                  $  ...  https://www.kickstarter.com/discover/categorie...   \n",
      "1                  $  ...  https://www.kickstarter.com/discover/categorie...   \n",
      "2                  $  ...  https://www.kickstarter.com/discover/categorie...   \n",
      "3                  $  ...  https://www.kickstarter.com/discover/categorie...   \n",
      "4                  $  ...  https://www.kickstarter.com/discover/categorie...   \n",
      "...              ...  ...                                                ...   \n",
      "6953               $  ...  https://www.kickstarter.com/discover/categorie...   \n",
      "6954               $  ...  https://www.kickstarter.com/discover/categorie...   \n",
      "6955               $  ...  https://www.kickstarter.com/discover/categorie...   \n",
      "6956               £  ...  https://www.kickstarter.com/discover/categorie...   \n",
      "6957               £  ...  https://www.kickstarter.com/discover/categorie...   \n",
      "\n",
      "     spotlight  staff_pick       state state_changed_at  static_usd_rate  \\\n",
      "0         True        True  successful       1247554830         1.000000   \n",
      "1         True       False  successful       1256731209         1.000000   \n",
      "2         True        True  successful       1255622410         1.000000   \n",
      "3         True       False  successful       1261303209         1.000000   \n",
      "4         True        True  successful       1257656410         1.000000   \n",
      "...        ...         ...         ...              ...              ...   \n",
      "6953     False       False        live       1620509053         1.000000   \n",
      "6954     False       False        live       1620509053         1.000000   \n",
      "6955     False       False        live       1620779912         1.000000   \n",
      "6956     False       False        live       1620788107         1.412044   \n",
      "6957     False       False        live       1620616221         1.398500   \n",
      "\n",
      "                                                   urls  usd_exchange_rate  \\\n",
      "0     {\"web\":{\"project\":\"https://www.kickstarter.com...           1.000000   \n",
      "1     {\"web\":{\"project\":\"https://www.kickstarter.com...           1.000000   \n",
      "2     {\"web\":{\"project\":\"https://www.kickstarter.com...           1.000000   \n",
      "3     {\"web\":{\"project\":\"https://www.kickstarter.com...           1.000000   \n",
      "4     {\"web\":{\"project\":\"https://www.kickstarter.com...           1.000000   \n",
      "...                                                 ...                ...   \n",
      "6953  {\"web\":{\"project\":\"https://www.kickstarter.com...           1.000000   \n",
      "6954  {\"web\":{\"project\":\"https://www.kickstarter.com...           1.000000   \n",
      "6955  {\"web\":{\"project\":\"https://www.kickstarter.com...           1.000000   \n",
      "6956  {\"web\":{\"project\":\"https://www.kickstarter.com...           1.406145   \n",
      "6957  {\"web\":{\"project\":\"https://www.kickstarter.com...           1.406145   \n",
      "\n",
      "       usd_pledged       usd_type  \n",
      "0       145.000000  international  \n",
      "1      2562.000000  international  \n",
      "2      3800.000000  international  \n",
      "3       830.000000  international  \n",
      "4     10021.000000  international  \n",
      "...            ...            ...  \n",
      "6953    114.000000  international  \n",
      "6954    114.000000  international  \n",
      "6955    928.000000  international  \n",
      "6956      1.412044  international  \n",
      "6957      4.195499  international  \n",
      "\n",
      "[6958 rows x 39 columns]\n"
     ]
    }
   ],
   "source": [
    "# Objective 2.\n",
    "# Complete the following cell using pandas.read_csv() \n",
    "# and the file included in this assignment.\n",
    "# Tip: set index_col to 'created_at' and parse_dates=True\n",
    "a=pd.read_csv (\"kickstarter_sample.csv\")\n",
    "print (a)\n",
    "#df = # TODO\n",
    "\n",
    "#assert len(df)>0\n",
    "# if you get an error, try again\n"
   ]
  },
  {
   "cell_type": "code",
   "execution_count": null,
   "id": "446a26ab-36b0-41bc-9830-09ad71137568",
   "metadata": {},
   "outputs": [],
   "source": [
    "# Objective 3.\n",
    "# Use this cell to examine the data you've loaded, specifically note the headers and index\n",
    "df"
   ]
  },
  {
   "cell_type": "code",
   "execution_count": null,
   "id": "42f06b43-9aed-4fd5-8a1d-119b94e42009",
   "metadata": {},
   "outputs": [],
   "source": [
    "# Objective 4.\n",
    "# Create a slice from the years 2018 to 2021\n",
    "\n",
    "df = # TODO\n",
    "df"
   ]
  },
  {
   "cell_type": "code",
   "execution_count": null,
   "id": "6fc837b2-3e6d-4971-a1a7-3486515b6401",
   "metadata": {},
   "outputs": [],
   "source": [
    "# Objective 5.\n",
    "# slice into the following collumns\n",
    "# 'backers_count','blurb','country','usd_pledged','state'\n",
    "\n",
    "df = # TODO\n",
    "df"
   ]
  },
  {
   "cell_type": "code",
   "execution_count": null,
   "id": "e3fac3f8-aa6c-4f38-933b-20c45cd131eb",
   "metadata": {},
   "outputs": [],
   "source": [
    "# Objective 6.\n",
    "# Use integer-location based indexing to exclude the last 3 row of data\n",
    "\n",
    "df = # TODO\n",
    "df"
   ]
  },
  {
   "cell_type": "code",
   "execution_count": null,
   "id": "231eb323-8b9c-4fcb-a253-aabb830f3ef9",
   "metadata": {},
   "outputs": [],
   "source": [
    "# Objective 7.\n",
    "# Inside of your slice, count the total number of backers\n",
    "\n",
    "total_backers = # todo\n"
   ]
  },
  {
   "cell_type": "code",
   "execution_count": null,
   "id": "a2877599-f5e4-4f38-900f-9a142ff74b00",
   "metadata": {},
   "outputs": [],
   "source": [
    "# Objective 8.\n",
    "# Use a mask to split the DataFrame into two parts and assign each to a variable.\n",
    "# Here we will use state.\n",
    "# Examine the state variable above.\n",
    "# and create one variable for on-going vs concluded projects.\n",
    "\n",
    "ongoing_df = df[df[#todo]==#todo]\n",
    "    \n",
    "concluded_df = df[df[#todo]==#todo]\n"
   ]
  },
  {
   "cell_type": "code",
   "execution_count": null,
   "id": "93e46a02-d0b0-4044-8a1b-510778ef24e6",
   "metadata": {},
   "outputs": [],
   "source": [
    "# Objective 9.\n",
    "# Examine on-going projects\n",
    "ongoing_df"
   ]
  },
  {
   "cell_type": "code",
   "execution_count": null,
   "id": "48aed013-01b4-4580-af4d-eb801cf83585",
   "metadata": {},
   "outputs": [],
   "source": [
    "# Objective 10.\n",
    "# Examine concluded projects\n",
    "concluded_df"
   ]
  },
  {
   "cell_type": "code",
   "execution_count": null,
   "id": "07b14983-8b2b-4a1d-bcf7-068bfb1fad89",
   "metadata": {},
   "outputs": [],
   "source": [
    "# Objective 11.\n",
    "# Use the above DataFrames to answer the following\n",
    "\n",
    "# On-going average funding\n",
    "ongoing_avg_funding = #todo, hint, use: ongoing_df\n",
    "\n",
    "# Concluded average funding\n",
    "concluded_avg_funding = #todo, hint, use: concluded_df\n",
    "\n",
    "# On-going total backers\n",
    "ongoing_total_backers = #todo, hint, use: ongoing_df\n",
    "\n",
    "# Concluded total backers\n",
    "concluded_total_backers = #todo, hint, use: concluded_df"
   ]
  },
  {
   "cell_type": "code",
   "execution_count": null,
   "id": "3562c4b5-ddc0-41df-8565-039dd3635cd1",
   "metadata": {},
   "outputs": [],
   "source": [
    "# Objective 12.\n",
    "print(f\"The average funding for live projects: {#todo}\")\n",
    "print(f\"The average funding for successful projects: {#todo}\")\n",
    "\n",
    "print(f\"The total number of backers for live projects: {#todo}\")\n",
    "print(f\"The total number of backers for successful projects: {#todo}\")\n"
   ]
  },
  {
   "cell_type": "code",
   "execution_count": null,
   "id": "de962aa5-3444-458b-877a-37f6e907b827",
   "metadata": {},
   "outputs": [],
   "source": [
    "# Objective 13.\n",
    "# Using pandas helper methods, plot historgrams for each country.\n",
    "# Do not change the order of these\n",
    "\n",
    "concluded_df[#todo].hist()\n",
    "ongoing_df[#todo].hist()"
   ]
  },
  {
   "cell_type": "code",
   "execution_count": null,
   "id": "03ae1abf-9887-4e42-aaac-8cc7e114192f",
   "metadata": {},
   "outputs": [],
   "source": []
  },
  {
   "cell_type": "markdown",
   "id": "49f9bc2d-e8fe-43ae-a344-68eafcbad2f9",
   "metadata": {},
   "source": [
    "## Congratulations! You've completed this assignment 🎉"
   ]
  }
 ],
 "metadata": {
  "kernelspec": {
   "display_name": "Python 3",
   "language": "python",
   "name": "python3"
  },
  "language_info": {
   "codemirror_mode": {
    "name": "ipython",
    "version": 3
   },
   "file_extension": ".py",
   "mimetype": "text/x-python",
   "name": "python",
   "nbconvert_exporter": "python",
   "pygments_lexer": "ipython3",
   "version": "3.8.8"
  }
 },
 "nbformat": 4,
 "nbformat_minor": 5
}
